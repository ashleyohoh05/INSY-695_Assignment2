{
  "cells": [
    {
      "cell_type": "markdown",
      "metadata": {
        "id": "view-in-github",
        "colab_type": "text"
      },
      "source": [
        "<a href=\"https://colab.research.google.com/github/ashleyohoh05/INSY-695_Assignment2/blob/main/FINE_695_Group_Project_ran.ipynb\" target=\"_parent\"><img src=\"https://colab.research.google.com/assets/colab-badge.svg\" alt=\"Open In Colab\"/></a>"
      ]
    },
    {
      "cell_type": "markdown",
      "metadata": {
        "id": "6gmw0yhQ7A-h"
      },
      "source": [
        "## Full Python Workflow for FINE 695 Project (Clean Flowchart)\n",
        "\n",
        "1.   List item\n",
        "2.   List item\n",
        "\n",
        "\n",
        "\n",
        "```\n",
        "START\n",
        "  │\n",
        "  ├── Step 1: Load Data\n",
        "  │     ├── homework_sample_big.csv  →  Stock Data\n",
        "  │     ├── factor_char_list.csv     →  Allowed Features (147)\n",
        "  │     └── mkt_ind.csv              →  S&P500 + RF Returns\n",
        "  │\n",
        "  ├── Step 2: Data Cleaning\n",
        "  │     ├── Handle Missing Values → Fill with 0\n",
        "  │     ├── Drop Irrelevant Columns → ['ret_eom', 'stock_ret', 'mspread', 'sizeport', 'roeport']\n",
        "  │     └── Keep Columns → ['permno', 'date', 'year', 'month']\n",
        "  │\n",
        "  ├── Step 2.3: Feature & Target Selection\n",
        "  │     ├── X → 147 Factors from factor_char_list.csv\n",
        "  │     └── y → stock_exret\n",
        "  │\n",
        "  ├── Step 2.4: Create Lagged Data\n",
        "  │     └── date_lag = date - 1 month\n",
        "  │\n",
        "  ├── Step 3: Machine Learning Modeling\n",
        "  │     ├── Train ML Model (2000-2009 data)\n",
        "  │     ├── Predict stock_exret for t+1\n",
        "  │     └── Rolling Prediction (2010-2024)\n",
        "  │\n",
        "  ├── Step 4: Portfolio Construction\n",
        "  │     ├── Rank Stocks by Predicted stock_exret\n",
        "  │     ├── Select Top 50-100 Stocks\n",
        "  │     └── Allocate Equal or Weighted Capital\n",
        "  │\n",
        "  ├── Step 5: Backtesting\n",
        "  │     ├── Merge with mkt_ind.csv\n",
        "  │     ├── Calculate Portfolio Returns\n",
        "  │     └── Compare vs S&P500\n",
        "  │\n",
        "  ├── Step 6: Performance Metrics\n",
        "  │     ├── Alpha, Beta, Sharpe Ratio\n",
        "  │     ├── Information Ratio\n",
        "  │     ├── Max Drawdown\n",
        "  │     ├── Turnover\n",
        "  │     └── Tracking Error\n",
        "  │\n",
        "  └── Step 7: Final Output for Report\n",
        "        ├── Cumulative Return Plot\n",
        "        ├── Performance Summary Table\n",
        "        └── Top 10 Average Holdings Table\n",
        "\n",
        "END\n",
        "```\n",
        "\n"
      ]
    },
    {
      "cell_type": "markdown",
      "metadata": {
        "id": "L9xJHQkM7A-h"
      },
      "source": [
        "## Final FINE 695 Python Workflow (Structured Steps)\n",
        "\n",
        "| Step | Task | Objective |\n",
        "|------|------|------------|\n",
        "| Step 1 | Load all Datasets | Load the 3 datasets needed for analysis: stock data, factors list, and market index data |\n",
        "| Step 2.1 | Check Missing Values | Understand where missing data exists |\n",
        "| Step 2.2 | Clean Missing Values | Drop columns with >50% missing data, and fill remaining missing values with 0 |\n",
        "| Step 2.3 | Select Features (X) and Target (y) | Use all 147 factors from `factor_char_list.csv` as features, and `stock_exret` as target |\n",
        "| Step 2.4 | Confirm Factors Exist in Dataset | Ensure all 147 factors from factor list exist in the main dataset |\n",
        "| Step 2.5 | Create `date_lag` Column | Lag the date by 1 month to align with proper prediction window |\n",
        "| Step 3 | Train-Test Split | Split data into training set (2000-2009) and testing set (2010-2024) to avoid lookahead bias |\n",
        "| Step 4 | Train Machine Learning Models | Train Random Forest (baseline) → Later compare with Lasso / XGBoost |\n",
        "| Step 5 | Predict Future Returns | Predict stock excess returns (`stock_exret`) for test period |\n",
        "| Step 6 | Portfolio Construction | Rank stocks based on predicted returns, pick top 50-100 stocks for portfolio |\n",
        "| Step 7 | Backtesting Portfolio | Calculate monthly portfolio returns and compare against S&P500 returns |\n",
        "| Step 8 | Performance Evaluation | Evaluate portfolio metrics: Alpha, Beta, Sharpe Ratio, Information Ratio, Max Drawdown, Turnover, Tracking Error |\n"
      ]
    },
    {
      "cell_type": "markdown",
      "metadata": {
        "id": "p2c17cVw7A-h"
      },
      "source": [
        "## Step 1: Load all Required Datasets\n",
        "\n",
        "In this project, we will be working with three key datasets:\n",
        "\n",
        "1. `homework_sample_big.csv` → The main dataset containing:\n",
        "   - Stock identifiers (`permno`)\n",
        "   - Monthly returns (`stock_exret`)\n",
        "   - Risk-free rate (`rf`)\n",
        "   - 147 financial characteristics (factors)\n",
        "\n",
        "2. `factor_char_list.csv` → A list of the 147 financial factors allowed for modeling.\n",
        "\n",
        "3. `mkt_ind.csv` → Market index data including:\n",
        "   - S&P500 returns\n",
        "   - Risk-free rate\n",
        "\n",
        "This step involves loading all three datasets and performing an initial inspection to understand their structure.\n"
      ]
    },
    {
      "cell_type": "code",
      "execution_count": null,
      "metadata": {
        "id": "cDCvmB7l7A-h",
        "outputId": "2d2c1c38-a7ed-4f3e-a911-fb062809f1bd"
      },
      "outputs": [
        {
          "name": "stdout",
          "output_type": "stream",
          "text": [
            "Main Dataset Shape: (112410, 159)\n",
            "Factor List Shape: (147, 1)\n",
            "Market Index Dataset Shape: (296, 4)\n",
            "\n",
            "Main Dataset Sample:\n",
            "       date   ret_eom  permno  stock_ret   mspread  year  month sizeport  \\\n",
            "0  20050131  20050131   10078  -0.191095  0.016962  2005      1        B   \n",
            "1  20050131  20050131   10104   0.003644  0.008863  2005      1        B   \n",
            "2  20050131  20050131   10107  -0.016467  0.006183  2005      1        B   \n",
            "3  20050131  20050131   10138  -0.037781  0.006887  2005      1        B   \n",
            "4  20050131  20050131   10143  -0.130261  0.006652  2005      1        B   \n",
            "\n",
            "  roeport             me  ...  corr_1260d  betabab_1260d  rmax5_rvol_21d  age  \\\n",
            "0       V   18206.670339  ...    0.617591       2.563590        0.853782  240   \n",
            "1       P   71685.162915  ...    0.591024       1.546829        1.935455  240   \n",
            "2       P  290719.524370  ...    0.636031       0.952634        0.798137  240   \n",
            "3       P    8061.617699  ...    0.728617       1.506642        0.974570  240   \n",
            "4       V    3813.981672  ...    0.350297       4.696289        1.236597  240   \n",
            "\n",
            "        qmj  qmj_prof  qmj_growth  qmj_safety      rf  stock_exret  \n",
            "0 -0.997941  0.594322   -1.649428   -0.703900  0.0016    -0.192695  \n",
            "1  0.965151  1.682222   -0.377518    0.507648  0.0016     0.002044  \n",
            "2  0.786531  1.458264   -1.514816    1.541049  0.0016    -0.018067  \n",
            "3  0.874547  1.375639   -1.123924    1.411421  0.0016    -0.039381  \n",
            "4 -1.727089 -1.667002   -1.682219   -1.633744  0.0016    -0.131861  \n",
            "\n",
            "[5 rows x 159 columns]\n",
            "\n",
            "Main Dataset Columns:\n",
            "['date', 'ret_eom', 'permno', 'stock_ret', 'mspread', 'year', 'month', 'sizeport', 'roeport', 'me', 'prc', 'market_equity', 'div12m_me', 'chcsho_12m', 'eqnpo_12m', 'ret_1_0', 'ret_3_1', 'ret_6_1', 'ret_9_1', 'ret_12_1', 'ret_12_7', 'ret_60_12', 'seas_1_1an', 'seas_1_1na', 'seas_2_5an', 'seas_2_5na', 'at_gr1', 'sale_gr1', 'capx_gr1', 'inv_gr1', 'debt_gr3', 'sale_gr3', 'capx_gr3', 'inv_gr1a', 'lti_gr1a', 'sti_gr1a', 'coa_gr1a', 'col_gr1a', 'cowc_gr1a', 'ncoa_gr1a', 'ncol_gr1a', 'nncoa_gr1a', 'fnl_gr1a', 'nfna_gr1a', 'tax_gr1a', 'be_gr1a', 'ebit_sale', 'gp_at', 'cop_at', 'ope_be', 'ni_be', 'ebit_bev', 'netis_at', 'eqnetis_at', 'dbnetis_at', 'oaccruals_at', 'oaccruals_ni', 'taccruals_at', 'taccruals_ni', 'noa_at', 'opex_at', 'at_turnover', 'sale_bev', 'rd_sale', 'cash_at', 'sale_emp_gr1', 'emp_gr1', 'ni_inc8q', 'noa_gr1a', 'ppeinv_gr1a', 'lnoa_gr1a', 'capx_gr2', 'saleq_gr1', 'niq_be', 'niq_at', 'niq_be_chg1', 'niq_at_chg1', 'rd5_at', 'dsale_dinv', 'dsale_drec', 'dgp_dsale', 'dsale_dsga', 'saleq_su', 'niq_su', 'capex_abn', 'op_atl1', 'gp_atl1', 'ope_bel1', 'cop_atl1', 'pi_nix', 'ocf_at', 'op_at', 'ocf_at_chg1', 'at_be', 'ocfq_saleq_std', 'tangibility', 'earnings_variability', 'aliq_at', 'f_score', 'o_score', 'z_score', 'intrinsic_value', 'kz_index', 'ni_ar1', 'ni_ivol', 'at_me', 'be_me', 'debt_me', 'netdebt_me', 'sale_me', 'ni_me', 'ocf_me', 'fcf_me', 'eqpo_me', 'eqnpo_me', 'rd_me', 'bev_mev', 'ebitda_mev', 'aliq_mat', 'eq_dur', 'beta_60m', 'resff3_12_1', 'resff3_6_1', 'mispricing_mgmt', 'mispricing_perf', 'ivol_capm_21d', 'iskew_capm_21d', 'coskew_21d', 'beta_dimson_21d', 'ivol_ff3_21d', 'iskew_ff3_21d', 'ivol_hxz4_21d', 'iskew_hxz4_21d', 'rmax5_21d', 'rmax1_21d', 'rvol_21d', 'rskew_21d', 'zero_trades_21d', 'dolvol_126d', 'dolvol_var_126d', 'turnover_126d', 'turnover_var_126d', 'zero_trades_126d', 'zero_trades_252d', 'ami_126d', 'ivol_capm_252d', 'prc_highprc_252d', 'betadown_252d', 'bidaskhl_21d', 'corr_1260d', 'betabab_1260d', 'rmax5_rvol_21d', 'age', 'qmj', 'qmj_prof', 'qmj_growth', 'qmj_safety', 'rf', 'stock_exret']\n",
            "\n",
            "Factor List Columns:\n",
            "['variable']\n",
            "\n",
            "Market Index Dataset Columns:\n",
            "['RF', 'year', 'month', 'sp_ret']\n"
          ]
        }
      ],
      "source": [
        "import pandas as pd\n",
        "\n",
        "# File paths\n",
        "main_file = 'homework_sample_big.csv'\n",
        "factors_file = 'factors_char_list.csv'\n",
        "mkt_file = 'mkt_ind.csv'\n",
        "\n",
        "# Load datasets\n",
        "df = pd.read_csv(main_file)\n",
        "factors = pd.read_csv(factors_file)\n",
        "mkt = pd.read_csv(mkt_file)\n",
        "\n",
        "# Display dataset dimensions\n",
        "print('Main Dataset Shape:', df.shape)\n",
        "print('Factor List Shape:', factors.shape)\n",
        "print('Market Index Dataset Shape:', mkt.shape)\n",
        "\n",
        "# Display first 5 rows of main dataset\n",
        "print('\\nMain Dataset Sample:')\n",
        "print(df.head())\n",
        "\n",
        "# Display column names for all datasets\n",
        "print('\\nMain Dataset Columns:')\n",
        "print(df.columns.tolist())\n",
        "\n",
        "print('\\nFactor List Columns:')\n",
        "print(factors.columns.tolist())\n",
        "\n",
        "print('\\nMarket Index Dataset Columns:')\n",
        "print(mkt.columns.tolist())\n"
      ]
    },
    {
      "cell_type": "markdown",
      "metadata": {
        "id": "6h1B_i8-7A-i"
      },
      "source": [
        "## Step 2: Data Cleaning and Preparation\n",
        "\n",
        "Objective:\n",
        "Prepare the main dataset `homework_sample_big.csv` for modeling by:\n",
        "\n",
        "1. Checking for missing values.\n",
        "2. Dropping irrelevant columns.\n",
        "3. Selecting only the 147 financial factors for modeling (from `factor_char_list.csv`).\n",
        "4. Checking data types.\n",
        "5. Preparing the final feature matrix (X) and target variable (y).\n"
      ]
    },
    {
      "cell_type": "code",
      "execution_count": null,
      "metadata": {
        "id": "9mCRa1Wt7A-i",
        "outputId": "b7d6df3b-a6ff-4e0f-da0a-4ccd3f18b8dd"
      },
      "outputs": [
        {
          "name": "stdout",
          "output_type": "stream",
          "text": [
            "Missing Values per Column:\n",
            "rd5_at        50867\n",
            "rd_sale       46433\n",
            "rd_me         46143\n",
            "dsale_dinv    26362\n",
            "inv_gr1       26194\n",
            "              ...  \n",
            "netdebt_me       11\n",
            "at_me            11\n",
            "seas_1_1na        9\n",
            "seas_1_1an        9\n",
            "qmj_safety        3\n",
            "Length: 113, dtype: int64\n"
          ]
        }
      ],
      "source": [
        "# Step 2.1: Check Missing Values in Main Dataset\n",
        "missing_values = df.isnull().sum().sort_values(ascending=False)\n",
        "\n",
        "print('Missing Values per Column:')\n",
        "print(missing_values[missing_values > 0])\n"
      ]
    },
    {
      "cell_type": "markdown",
      "metadata": {
        "id": "ZHSEVCza7A-i"
      },
      "source": [
        "## Step 2.2: Cleaning Missing Values\n",
        "\n",
        "Cleaning logic applied:\n",
        "- Drop columns with more than 50% missing values.\n",
        "- For remaining columns, fill missing values with 0.\n",
        "- Drop rows with very few missing values in critical columns.\n"
      ]
    },
    {
      "cell_type": "code",
      "execution_count": null,
      "metadata": {
        "id": "tYzO-lSl7A-i",
        "outputId": "d1515027-3e3d-48e9-dc88-9b84ef3cf2f3"
      },
      "outputs": [
        {
          "name": "stdout",
          "output_type": "stream",
          "text": [
            "Remaining Columns after Dropping High Missing: 159\n",
            "Missing Values Remaining: 0\n"
          ]
        }
      ],
      "source": [
        "# Step 2.2: Drop columns with >50% missing values\n",
        "threshold = len(df) * 0.5\n",
        "df = df.loc[:, df.isnull().sum() <= threshold]\n",
        "\n",
        "print('Remaining Columns after Dropping High Missing:', df.shape[1])\n",
        "\n",
        "# Fill remaining missing values with 0\n",
        "df = df.fillna(0)\n",
        "\n",
        "# Confirm no missing values remain\n",
        "print('Missing Values Remaining:', df.isnull().sum().sum())\n"
      ]
    },
    {
      "cell_type": "markdown",
      "metadata": {
        "id": "yF7kLgkV7A-i"
      },
      "source": [
        "## Step 2.3: Feature Selection Strategy\n",
        "\n",
        "### Rationale:\n",
        "- We will use all 147 factors provided in the dataset (`factor_list.csv`) for building the initial prediction model.\n",
        "- This ensures that our model fully captures the available financial signals without prematurely dropping any variables.\n",
        "- After training the model, we will evaluate feature importance to identify which factors are most influential.\n",
        "- This approach aligns with the assignment requirements and best practices in financial modeling.\n",
        "\n",
        "---\n",
        "\n",
        "## Next Steps:\n",
        "1. Extract factor variables from the dataset.\n",
        "2. Prepare X (features) and y (target) datasets.\n",
        "3. Proceed to model training using Random Forest.\n",
        "4. Evaluate feature importance after training.\n"
      ]
    },
    {
      "cell_type": "code",
      "execution_count": null,
      "metadata": {
        "id": "xYdiLl8Y7A-i",
        "outputId": "dfe48061-c18d-4d4f-c41d-6f11cd17cfeb"
      },
      "outputs": [
        {
          "name": "stdout",
          "output_type": "stream",
          "text": [
            "Total Factors Selected: 147\n",
            "Shape of Feature Dataset (X): (112410, 147)\n",
            "Shape of Target Dataset (y): (112410,)\n"
          ]
        }
      ],
      "source": [
        "# Step 2.3: Extract Features & Target\n",
        "\n",
        "# List of features from factor list\n",
        "factors_list = factors['variable'].tolist()\n",
        "\n",
        "print('Total Factors Selected:', len(factors_list))\n",
        "\n",
        "# Define X (features) and y (target)\n",
        "X = df[factors_list]\n",
        "y = df['stock_exret']  # excess returns\n",
        "\n",
        "print('Shape of Feature Dataset (X):', X.shape)\n",
        "print('Shape of Target Dataset (y):', y.shape)\n"
      ]
    },
    {
      "cell_type": "markdown",
      "metadata": {
        "id": "K5i8cB_A7A-i"
      },
      "source": [
        "## Step 2.4: Verify All 147 Factors Exist in Main Dataset\n",
        "\n",
        "Objective:\n",
        "- Ensure all features listed in `factor_char_list.csv` are present in `homework_sample_big.csv`.\n",
        "- This is critical to avoid missing predictors during model training.\n",
        "\n",
        "Approach:\n",
        "- Compare the factor list (`factors_list`) against main dataset columns.\n",
        "- Identify missing factors, if any.\n"
      ]
    },
    {
      "cell_type": "code",
      "execution_count": null,
      "metadata": {
        "id": "FQNUB8767A-i",
        "outputId": "3aedcfa4-1820-4703-8dd9-1bd666d2180b"
      },
      "outputs": [
        {
          "name": "stdout",
          "output_type": "stream",
          "text": [
            "Total Factors Expected: 147\n",
            "Factors Missing in Main Dataset: []\n",
            "Total Missing Factors: 0\n"
          ]
        }
      ],
      "source": [
        "# Factors from factor_char_list.csv\n",
        "factors_list = factors['variable'].tolist()\n",
        "\n",
        "# Features available in main dataset\n",
        "available_columns = df.columns.tolist()\n",
        "\n",
        "# Check for missing factors\n",
        "missing_factors = [factor for factor in factors_list if factor not in available_columns]\n",
        "\n",
        "print(\"Total Factors Expected:\", len(factors_list))\n",
        "print(\"Factors Missing in Main Dataset:\", missing_factors)\n",
        "print(\"Total Missing Factors:\", len(missing_factors))\n"
      ]
    },
    {
      "cell_type": "markdown",
      "metadata": {
        "id": "d2a0pCOu7A-i"
      },
      "source": [
        "## Step 2.5: Create Lagged Date Column (`date_lag`)\n",
        "\n",
        "### Objective:\n",
        "- According to the assignment rules, we are not allowed to use any future-looking data when predicting returns.\n",
        "- To ensure we are only using information available prior to the return month, we will create a new column called `date_lag` that shifts the date backward by 1 month.\n",
        "- This aligns the features (X) from time `t` with the target return (`stock_exret`) from time `t+1`.\n",
        "\n",
        "This is a critical step before we move to model training.\n",
        "\n",
        "---\n",
        "\n",
        "### Python Code:\n"
      ]
    },
    {
      "cell_type": "code",
      "execution_count": null,
      "metadata": {
        "id": "QlLwnkKr7A-i",
        "outputId": "7a21cbf0-2705-4159-c2f4-50d685ffdab5"
      },
      "outputs": [
        {
          "name": "stdout",
          "output_type": "stream",
          "text": [
            "        date   date_lag\n",
            "0 2005-01-31 2004-12-31\n",
            "1 2005-01-31 2004-12-31\n",
            "2 2005-01-31 2004-12-31\n",
            "3 2005-01-31 2004-12-31\n",
            "4 2005-01-31 2004-12-31\n"
          ]
        }
      ],
      "source": [
        "# Import datetime tools\n",
        "import pandas as pd\n",
        "\n",
        "# Convert 'date' column to datetime (if not already)\n",
        "df['date'] = pd.to_datetime(df['date'], format='%Y%m%d')\n",
        "\n",
        "# Create lagged date column (1 month before)\n",
        "df['date_lag'] = df['date'] - pd.DateOffset(months=1)\n",
        "\n",
        "# Confirm changes\n",
        "print(df[['date', 'date_lag']].head())\n"
      ]
    },
    {
      "cell_type": "markdown",
      "metadata": {
        "id": "ctnEA6XC7A-j"
      },
      "source": [
        "## Step 3: Train-Test Split for Modeling\n",
        "\n",
        "### Objective:\n",
        "- We will split the dataset based on `date` into:\n",
        "  - Train Set → 2000 to 2009\n",
        "  - Test Set → 2010 to 2024\n",
        "\n",
        "This follows the assignment rule of using the first 10 years for training and keeping the later period for testing (backtesting).\n",
        "\n",
        "---\n",
        "\n",
        "### Logic:\n",
        "- `X` = 147 Factors → Used for Prediction\n",
        "- `y` = `stock_exret` → Target Variable\n",
        "- Split based on `year` column\n"
      ]
    },
    {
      "cell_type": "code",
      "execution_count": null,
      "metadata": {
        "id": "c1v0jJZ77A-j",
        "outputId": "2b653ce1-55de-4e8a-b301-fee585a8009a"
      },
      "outputs": [
        {
          "name": "stdout",
          "output_type": "stream",
          "text": [
            "Training Features Shape: (29398, 147)\n",
            "Training Target Shape: (29398,)\n",
            "Testing Features Shape: (83012, 147)\n",
            "Testing Target Shape: (83012,)\n"
          ]
        }
      ],
      "source": [
        "# Training Data: 2000 - 2009\n",
        "X_train = X[df['year'] <= 2009]\n",
        "y_train = y[df['year'] <= 2009]\n",
        "\n",
        "# Testing Data: 2010 - 2024\n",
        "X_test = X[df['year'] >= 2010]\n",
        "y_test = y[df['year'] >= 2010]\n",
        "\n",
        "# Check shapes\n",
        "print('Training Features Shape:', X_train.shape)\n",
        "print('Training Target Shape:', y_train.shape)\n",
        "print('Testing Features Shape:', X_test.shape)\n",
        "print('Testing Target Shape:', y_test.shape)\n"
      ]
    },
    {
      "cell_type": "markdown",
      "metadata": {
        "id": "AP4TpcfD7A-j"
      },
      "source": [
        "## Step 3.2: Initial Model Training using Random Forest (Baseline Model)\n",
        "\n",
        "### Objective:\n",
        "We will train a baseline Random Forest Regressor model to predict stock excess returns (`stock_exret`), using all 147 factors from the dataset.\n",
        "\n",
        "This step serves two purposes:\n",
        "- Establish a benchmark model performance.\n",
        "- Analyze feature importance to guide future feature selection and model refinement.\n",
        "\n",
        "---\n",
        "\n",
        "### Why Random Forest?\n",
        "\n",
        "- Handles non-linearity & complex patterns.\n",
        "- Robust to overfitting due to averaging across trees.\n",
        "- Automatically captures interaction effects between features.\n",
        "- Provides interpretable feature importance.\n",
        "\n",
        "---\n",
        "\n",
        "### Model Training Logic:\n",
        "1. Use Train Data → 2000-2009\n",
        "2. Predict on Test Data → 2010-2024\n",
        "3. Evaluate Model using R-squared & RMSE\n",
        "4. Plot Feature Importance\n"
      ]
    },
    {
      "cell_type": "code",
      "execution_count": null,
      "metadata": {
        "id": "BCF1SoaU7A-j",
        "outputId": "02ec6d1d-2fec-4c7d-ff06-e7418d18efe6"
      },
      "outputs": [
        {
          "name": "stdout",
          "output_type": "stream",
          "text": [
            "Random Forest Model Performance:\n",
            "R-squared (Test): -0.0742\n",
            "RMSE (Test): 0.1073\n"
          ]
        },
        {
          "data": {
            "image/png": "[encoded data removed]",
            "text/plain": [
              "<Figure size 1200x600 with 1 Axes>"
            ]
          },
          "metadata": {},
          "output_type": "display_data"
        }
      ],
      "source": [
        "# Step 3.2: Train Random Forest Model\n",
        "\n",
        "from sklearn.ensemble import RandomForestRegressor\n",
        "from sklearn.metrics import mean_squared_error, r2_score\n",
        "import numpy as np\n",
        "import matplotlib.pyplot as plt\n",
        "\n",
        "# Initialize Random Forest Model\n",
        "rf_model = RandomForestRegressor(n_estimators=100, random_state=42, n_jobs=-1)\n",
        "\n",
        "# Train the model\n",
        "rf_model.fit(X_train, y_train)\n",
        "\n",
        "# Predict on Test Set\n",
        "y_pred = rf_model.predict(X_test)\n",
        "\n",
        "# Evaluate Performance\n",
        "r2 = r2_score(y_test, y_pred)\n",
        "rmse = np.sqrt(mean_squared_error(y_test, y_pred))\n",
        "\n",
        "print('Random Forest Model Performance:')\n",
        "print('R-squared (Test):', round(r2, 4))\n",
        "print('RMSE (Test):', round(rmse, 4))\n",
        "\n",
        "# Feature Importance\n",
        "importances = rf_model.feature_importances_\n",
        "indices = np.argsort(importances)[::-1]\n",
        "\n",
        "# Plot Feature Importance\n",
        "plt.figure(figsize=(12, 6))\n",
        "plt.title('Top 20 Feature Importances from Random Forest')\n",
        "plt.bar(range(20), importances[indices[:20]], align='center')\n",
        "plt.xticks(range(20), [X.columns[i] for i in indices[:20]], rotation=90)\n",
        "plt.tight_layout()\n",
        "plt.show()\n"
      ]
    },
    {
      "cell_type": "markdown",
      "metadata": {
        "id": "keodyhM67A-j"
      },
      "source": [
        "## Step 3.2: Interpretation of Random Forest Model Results\n",
        "\n",
        "### Model Performance Summary:\n",
        "\n",
        "| Metric                | Value    | Interpretation                                                                 |\n",
        "|----------------------|----------|--------------------------------------------------------------------------------|\n",
        "| R-squared (Test)     | -0.0742  | Model performs worse than a simple mean benchmark. This is common in stock return prediction due to high noise and randomness in returns. Not alarming at this stage. |\n",
        "| RMSE (Test)          | 0.1073   | Prediction error is relatively small in magnitude — consistent with the small range of `stock_exret`. |\n",
        "\n",
        "---\n",
        "\n",
        "### Insights from Top 20 Important Features (Random Forest)\n",
        "\n",
        "| Rank | Feature Name      | Interpretation / Signal Type                                     |\n",
        "|------|------------------|------------------------------------------------------------------|\n",
        "| 1    | ret_9_1           | 9-month return momentum signal                                  |\n",
        "| 2    | ret_1_0           | Previous month return — momentum/short-term reversal            |\n",
        "| 3    | max5_rvol_21d     | 5-day max rolling volatility — risk/uncertainty measure         |\n",
        "| 4    | bidaskhl_21d      | Bid-ask high-low spread — liquidity signal                      |\n",
        "| 5    | seas_1_1an        | Seasonality or month-of-year effect                             |\n",
        "| 6    | ret_6_1           | 6-month return momentum                                         |\n",
        "| 7    | ret_3_1           | 3-month return momentum                                         |\n",
        "| 8    | beta_dimson_21d   | Short-term market beta — risk exposure                         |\n",
        "| 9+   | Others            | Mostly volatility, momentum, or liquidity-related signals       |\n",
        "\n",
        "---\n",
        "\n",
        "### Key Takeaways:\n",
        "- Momentum Factors (returns over past 1, 3, 6, 9 months) are the most important drivers.\n",
        "- Risk & Liquidity Factors (volatility, bid-ask spread) also highly influential.\n",
        "- This aligns well with academic finance literature on stock return prediction.\n",
        "- However, overall R² performance is weak → indicates potential to improve using:\n",
        "  - Feature Selection (LASSO)\n",
        "  - Alternative Models (GBM, XGBoost)\n",
        "  - Portfolio Construction for economic value creation.\n"
      ]
    },
    {
      "cell_type": "markdown",
      "metadata": {
        "id": "_k_W0c-b7A-j"
      },
      "source": [
        "## Step 3.3: Feature Selection using LASSO Regression\n",
        "\n",
        "### Objective:\n",
        "To identify the most important predictors from the original 147 factors by applying LASSO Regression.\n",
        "\n",
        "- LASSO (Least Absolute Shrinkage and Selection Operator) helps in:\n",
        "  - Penalizing less useful features by shrinking their coefficients to zero.\n",
        "  - Automatically selecting the most relevant factors.\n",
        "  - Avoiding overfitting when there are many features.\n",
        "\n",
        "---\n",
        "\n",
        "### Steps:\n",
        "1. Standardize all features (LASSO is sensitive to scale).\n",
        "2. Fit LASSO Regression on the Training Data.\n",
        "3. Extract Non-zero Coefficient Features.\n",
        "4. Evaluate Model Performance using LASSO Selected Features.\n",
        "\n"
      ]
    },
    {
      "cell_type": "code",
      "execution_count": null,
      "metadata": {
        "id": "sAiIUq237A-j",
        "outputId": "e5619701-ad2e-4b0b-ad55-c7c842247db3"
      },
      "outputs": [
        {
          "name": "stderr",
          "output_type": "stream",
          "text": [
            "/Library/Frameworks/Python.framework/Versions/3.12/lib/python3.12/site-packages/sklearn/linear_model/_coordinate_descent.py:681: ConvergenceWarning: Objective did not converge. You might want to increase the number of iterations. Duality gap: 0.2237845980476436, tolerance: 0.03791586662452287\n",
            "  model = cd_fast.enet_coordinate_descent_gram(\n",
            "/Library/Frameworks/Python.framework/Versions/3.12/lib/python3.12/site-packages/sklearn/linear_model/_coordinate_descent.py:681: ConvergenceWarning: Objective did not converge. You might want to increase the number of iterations. Duality gap: 0.402589425187557, tolerance: 0.03791586662452287\n",
            "  model = cd_fast.enet_coordinate_descent_gram(\n",
            "/Library/Frameworks/Python.framework/Versions/3.12/lib/python3.12/site-packages/sklearn/linear_model/_coordinate_descent.py:681: ConvergenceWarning: Objective did not converge. You might want to increase the number of iterations. Duality gap: 0.5536021970262368, tolerance: 0.03791586662452287\n",
            "  model = cd_fast.enet_coordinate_descent_gram(\n",
            "/Library/Frameworks/Python.framework/Versions/3.12/lib/python3.12/site-packages/sklearn/linear_model/_coordinate_descent.py:681: ConvergenceWarning: Objective did not converge. You might want to increase the number of iterations. Duality gap: 0.6706943913869736, tolerance: 0.03791586662452287\n",
            "  model = cd_fast.enet_coordinate_descent_gram(\n",
            "/Library/Frameworks/Python.framework/Versions/3.12/lib/python3.12/site-packages/sklearn/linear_model/_coordinate_descent.py:681: ConvergenceWarning: Objective did not converge. You might want to increase the number of iterations. Duality gap: 1.451906045528915, tolerance: 0.03791586662452287\n",
            "  model = cd_fast.enet_coordinate_descent_gram(\n",
            "/Library/Frameworks/Python.framework/Versions/3.12/lib/python3.12/site-packages/sklearn/linear_model/_coordinate_descent.py:681: ConvergenceWarning: Objective did not converge. You might want to increase the number of iterations. Duality gap: 3.679304043272623, tolerance: 0.03791586662452287\n",
            "  model = cd_fast.enet_coordinate_descent_gram(\n",
            "/Library/Frameworks/Python.framework/Versions/3.12/lib/python3.12/site-packages/sklearn/linear_model/_coordinate_descent.py:681: ConvergenceWarning: Objective did not converge. You might want to increase the number of iterations. Duality gap: 5.617412068000817, tolerance: 0.03791586662452287\n",
            "  model = cd_fast.enet_coordinate_descent_gram(\n",
            "/Library/Frameworks/Python.framework/Versions/3.12/lib/python3.12/site-packages/sklearn/linear_model/_coordinate_descent.py:681: ConvergenceWarning: Objective did not converge. You might want to increase the number of iterations. Duality gap: 7.1102370097321455, tolerance: 0.03791586662452287\n",
            "  model = cd_fast.enet_coordinate_descent_gram(\n",
            "/Library/Frameworks/Python.framework/Versions/3.12/lib/python3.12/site-packages/sklearn/linear_model/_coordinate_descent.py:681: ConvergenceWarning: Objective did not converge. You might want to increase the number of iterations. Duality gap: 0.17828576474232705, tolerance: 0.03817029055785192\n",
            "  model = cd_fast.enet_coordinate_descent_gram(\n",
            "/Library/Frameworks/Python.framework/Versions/3.12/lib/python3.12/site-packages/sklearn/linear_model/_coordinate_descent.py:681: ConvergenceWarning: Objective did not converge. You might want to increase the number of iterations. Duality gap: 0.37669541948537244, tolerance: 0.03817029055785192\n",
            "  model = cd_fast.enet_coordinate_descent_gram(\n",
            "/Library/Frameworks/Python.framework/Versions/3.12/lib/python3.12/site-packages/sklearn/linear_model/_coordinate_descent.py:681: ConvergenceWarning: Objective did not converge. You might want to increase the number of iterations. Duality gap: 0.5547063106541259, tolerance: 0.03817029055785192\n",
            "  model = cd_fast.enet_coordinate_descent_gram(\n",
            "/Library/Frameworks/Python.framework/Versions/3.12/lib/python3.12/site-packages/sklearn/linear_model/_coordinate_descent.py:681: ConvergenceWarning: Objective did not converge. You might want to increase the number of iterations. Duality gap: 0.6948277316533904, tolerance: 0.03817029055785192\n",
            "  model = cd_fast.enet_coordinate_descent_gram(\n",
            "/Library/Frameworks/Python.framework/Versions/3.12/lib/python3.12/site-packages/sklearn/linear_model/_coordinate_descent.py:681: ConvergenceWarning: Objective did not converge. You might want to increase the number of iterations. Duality gap: 1.003228349143626, tolerance: 0.03817029055785192\n",
            "  model = cd_fast.enet_coordinate_descent_gram(\n",
            "/Library/Frameworks/Python.framework/Versions/3.12/lib/python3.12/site-packages/sklearn/linear_model/_coordinate_descent.py:681: ConvergenceWarning: Objective did not converge. You might want to increase the number of iterations. Duality gap: 3.388567554228189, tolerance: 0.03817029055785192\n",
            "  model = cd_fast.enet_coordinate_descent_gram(\n",
            "/Library/Frameworks/Python.framework/Versions/3.12/lib/python3.12/site-packages/sklearn/linear_model/_coordinate_descent.py:681: ConvergenceWarning: Objective did not converge. You might want to increase the number of iterations. Duality gap: 5.616894727610941, tolerance: 0.03817029055785192\n",
            "  model = cd_fast.enet_coordinate_descent_gram(\n",
            "/Library/Frameworks/Python.framework/Versions/3.12/lib/python3.12/site-packages/sklearn/linear_model/_coordinate_descent.py:681: ConvergenceWarning: Objective did not converge. You might want to increase the number of iterations. Duality gap: 7.347637192504351, tolerance: 0.03817029055785192\n",
            "  model = cd_fast.enet_coordinate_descent_gram(\n",
            "/Library/Frameworks/Python.framework/Versions/3.12/lib/python3.12/site-packages/sklearn/linear_model/_coordinate_descent.py:681: ConvergenceWarning: Objective did not converge. You might want to increase the number of iterations. Duality gap: 8.639516974733112, tolerance: 0.03817029055785192\n",
            "  model = cd_fast.enet_coordinate_descent_gram(\n",
            "/Library/Frameworks/Python.framework/Versions/3.12/lib/python3.12/site-packages/sklearn/linear_model/_coordinate_descent.py:681: ConvergenceWarning: Objective did not converge. You might want to increase the number of iterations. Duality gap: 9.62780545591778, tolerance: 0.03817029055785192\n",
            "  model = cd_fast.enet_coordinate_descent_gram(\n",
            "/Library/Frameworks/Python.framework/Versions/3.12/lib/python3.12/site-packages/sklearn/linear_model/_coordinate_descent.py:681: ConvergenceWarning: Objective did not converge. You might want to increase the number of iterations. Duality gap: 0.10142986695018408, tolerance: 0.03751585217071597\n",
            "  model = cd_fast.enet_coordinate_descent_gram(\n",
            "/Library/Frameworks/Python.framework/Versions/3.12/lib/python3.12/site-packages/sklearn/linear_model/_coordinate_descent.py:681: ConvergenceWarning: Objective did not converge. You might want to increase the number of iterations. Duality gap: 0.28861280752596485, tolerance: 0.03751585217071597\n",
            "  model = cd_fast.enet_coordinate_descent_gram(\n",
            "/Library/Frameworks/Python.framework/Versions/3.12/lib/python3.12/site-packages/sklearn/linear_model/_coordinate_descent.py:681: ConvergenceWarning: Objective did not converge. You might want to increase the number of iterations. Duality gap: 0.4743510737262113, tolerance: 0.03751585217071597\n",
            "  model = cd_fast.enet_coordinate_descent_gram(\n",
            "/Library/Frameworks/Python.framework/Versions/3.12/lib/python3.12/site-packages/sklearn/linear_model/_coordinate_descent.py:681: ConvergenceWarning: Objective did not converge. You might want to increase the number of iterations. Duality gap: 0.6317889925371674, tolerance: 0.03751585217071597\n",
            "  model = cd_fast.enet_coordinate_descent_gram(\n",
            "/Library/Frameworks/Python.framework/Versions/3.12/lib/python3.12/site-packages/sklearn/linear_model/_coordinate_descent.py:681: ConvergenceWarning: Objective did not converge. You might want to increase the number of iterations. Duality gap: 0.7529554071173266, tolerance: 0.03751585217071597\n",
            "  model = cd_fast.enet_coordinate_descent_gram(\n",
            "/Library/Frameworks/Python.framework/Versions/3.12/lib/python3.12/site-packages/sklearn/linear_model/_coordinate_descent.py:681: ConvergenceWarning: Objective did not converge. You might want to increase the number of iterations. Duality gap: 0.20362204188717214, tolerance: 0.03751585217071597\n",
            "  model = cd_fast.enet_coordinate_descent_gram(\n",
            "/Library/Frameworks/Python.framework/Versions/3.12/lib/python3.12/site-packages/sklearn/linear_model/_coordinate_descent.py:681: ConvergenceWarning: Objective did not converge. You might want to increase the number of iterations. Duality gap: 2.253609493873796, tolerance: 0.03751585217071597\n",
            "  model = cd_fast.enet_coordinate_descent_gram(\n",
            "/Library/Frameworks/Python.framework/Versions/3.12/lib/python3.12/site-packages/sklearn/linear_model/_coordinate_descent.py:681: ConvergenceWarning: Objective did not converge. You might want to increase the number of iterations. Duality gap: 4.59480171968039, tolerance: 0.03751585217071597\n",
            "  model = cd_fast.enet_coordinate_descent_gram(\n",
            "/Library/Frameworks/Python.framework/Versions/3.12/lib/python3.12/site-packages/sklearn/linear_model/_coordinate_descent.py:681: ConvergenceWarning: Objective did not converge. You might want to increase the number of iterations. Duality gap: 6.532037674168976, tolerance: 0.03751585217071597\n",
            "  model = cd_fast.enet_coordinate_descent_gram(\n",
            "/Library/Frameworks/Python.framework/Versions/3.12/lib/python3.12/site-packages/sklearn/linear_model/_coordinate_descent.py:681: ConvergenceWarning: Objective did not converge. You might want to increase the number of iterations. Duality gap: 8.000730020867366, tolerance: 0.03751585217071597\n",
            "  model = cd_fast.enet_coordinate_descent_gram(\n",
            "/Library/Frameworks/Python.framework/Versions/3.12/lib/python3.12/site-packages/sklearn/linear_model/_coordinate_descent.py:681: ConvergenceWarning: Objective did not converge. You might want to increase the number of iterations. Duality gap: 0.02894112190654141, tolerance: 0.026903338161162537\n",
            "  model = cd_fast.enet_coordinate_descent_gram(\n",
            "/Library/Frameworks/Python.framework/Versions/3.12/lib/python3.12/site-packages/sklearn/linear_model/_coordinate_descent.py:681: ConvergenceWarning: Objective did not converge. You might want to increase the number of iterations. Duality gap: 0.03413967096597048, tolerance: 0.026903338161162537\n",
            "  model = cd_fast.enet_coordinate_descent_gram(\n",
            "/Library/Frameworks/Python.framework/Versions/3.12/lib/python3.12/site-packages/sklearn/linear_model/_coordinate_descent.py:681: ConvergenceWarning: Objective did not converge. You might want to increase the number of iterations. Duality gap: 0.03783257979000609, tolerance: 0.026903338161162537\n",
            "  model = cd_fast.enet_coordinate_descent_gram(\n",
            "/Library/Frameworks/Python.framework/Versions/3.12/lib/python3.12/site-packages/sklearn/linear_model/_coordinate_descent.py:681: ConvergenceWarning: Objective did not converge. You might want to increase the number of iterations. Duality gap: 0.04000743385248029, tolerance: 0.026903338161162537\n",
            "  model = cd_fast.enet_coordinate_descent_gram(\n",
            "/Library/Frameworks/Python.framework/Versions/3.12/lib/python3.12/site-packages/sklearn/linear_model/_coordinate_descent.py:681: ConvergenceWarning: Objective did not converge. You might want to increase the number of iterations. Duality gap: 0.04018698521898045, tolerance: 0.026903338161162537\n",
            "  model = cd_fast.enet_coordinate_descent_gram(\n",
            "/Library/Frameworks/Python.framework/Versions/3.12/lib/python3.12/site-packages/sklearn/linear_model/_coordinate_descent.py:681: ConvergenceWarning: Objective did not converge. You might want to increase the number of iterations. Duality gap: 0.03948036529692445, tolerance: 0.026903338161162537\n",
            "  model = cd_fast.enet_coordinate_descent_gram(\n",
            "/Library/Frameworks/Python.framework/Versions/3.12/lib/python3.12/site-packages/sklearn/linear_model/_coordinate_descent.py:681: ConvergenceWarning: Objective did not converge. You might want to increase the number of iterations. Duality gap: 0.038936125043022685, tolerance: 0.026903338161162537\n",
            "  model = cd_fast.enet_coordinate_descent_gram(\n",
            "/Library/Frameworks/Python.framework/Versions/3.12/lib/python3.12/site-packages/sklearn/linear_model/_coordinate_descent.py:681: ConvergenceWarning: Objective did not converge. You might want to increase the number of iterations. Duality gap: 0.03846638807132763, tolerance: 0.026903338161162537\n",
            "  model = cd_fast.enet_coordinate_descent_gram(\n",
            "/Library/Frameworks/Python.framework/Versions/3.12/lib/python3.12/site-packages/sklearn/linear_model/_coordinate_descent.py:681: ConvergenceWarning: Objective did not converge. You might want to increase the number of iterations. Duality gap: 0.03714196107443968, tolerance: 0.026903338161162537\n",
            "  model = cd_fast.enet_coordinate_descent_gram(\n",
            "/Library/Frameworks/Python.framework/Versions/3.12/lib/python3.12/site-packages/sklearn/linear_model/_coordinate_descent.py:681: ConvergenceWarning: Objective did not converge. You might want to increase the number of iterations. Duality gap: 0.03672148139096976, tolerance: 0.026903338161162537\n",
            "  model = cd_fast.enet_coordinate_descent_gram(\n",
            "/Library/Frameworks/Python.framework/Versions/3.12/lib/python3.12/site-packages/sklearn/linear_model/_coordinate_descent.py:681: ConvergenceWarning: Objective did not converge. You might want to increase the number of iterations. Duality gap: 0.1570633169168616, tolerance: 0.026903338161162537\n",
            "  model = cd_fast.enet_coordinate_descent_gram(\n",
            "/Library/Frameworks/Python.framework/Versions/3.12/lib/python3.12/site-packages/sklearn/linear_model/_coordinate_descent.py:681: ConvergenceWarning: Objective did not converge. You might want to increase the number of iterations. Duality gap: 0.34358439784176653, tolerance: 0.026903338161162537\n",
            "  model = cd_fast.enet_coordinate_descent_gram(\n",
            "/Library/Frameworks/Python.framework/Versions/3.12/lib/python3.12/site-packages/sklearn/linear_model/_coordinate_descent.py:681: ConvergenceWarning: Objective did not converge. You might want to increase the number of iterations. Duality gap: 0.5400047020229977, tolerance: 0.026903338161162537\n",
            "  model = cd_fast.enet_coordinate_descent_gram(\n",
            "/Library/Frameworks/Python.framework/Versions/3.12/lib/python3.12/site-packages/sklearn/linear_model/_coordinate_descent.py:681: ConvergenceWarning: Objective did not converge. You might want to increase the number of iterations. Duality gap: 0.14272422014045105, tolerance: 0.026903338161162537\n",
            "  model = cd_fast.enet_coordinate_descent_gram(\n"
          ]
        },
        {
          "name": "stdout",
          "output_type": "stream",
          "text": [
            "Total Features Selected by LASSO: 1\n",
            "Selected Features:\n",
            " ['ret_1_0']\n",
            "R-squared (Test) with LASSO Features: -0.5781027703233359\n",
            "RMSE (Test) with LASSO Features: 0.1300629854164267\n"
          ]
        }
      ],
      "source": [
        "from sklearn.preprocessing import StandardScaler\n",
        "from sklearn.linear_model import LassoCV\n",
        "from sklearn.metrics import r2_score, mean_squared_error\n",
        "import numpy as np\n",
        "import pandas as pd\n",
        "\n",
        "# Step 1: Standardize Features\n",
        "scaler = StandardScaler()\n",
        "X_train_scaled = scaler.fit_transform(X_train)\n",
        "X_test_scaled = scaler.transform(X_test)\n",
        "\n",
        "# Step 2: Fit LASSO with Cross-Validation\n",
        "lasso = LassoCV(cv=5, random_state=42)\n",
        "lasso.fit(X_train_scaled, y_train)\n",
        "\n",
        "# Step 3: Get Selected Features\n",
        "lasso_selected_features = X_train.columns[lasso.coef_ != 0]\n",
        "\n",
        "print('Total Features Selected by LASSO:', len(lasso_selected_features))\n",
        "print('Selected Features:\\n', list(lasso_selected_features))\n",
        "\n",
        "# Step 4: Model Performance using LASSO Features\n",
        "X_train_lasso = X_train[lasso_selected_features]\n",
        "X_test_lasso = X_test[lasso_selected_features]\n",
        "\n",
        "# Retrain with LASSO selected features using Random Forest\n",
        "from sklearn.ensemble import RandomForestRegressor\n",
        "\n",
        "rf_lasso = RandomForestRegressor(random_state=42)\n",
        "rf_lasso.fit(X_train_lasso, y_train)\n",
        "\n",
        "y_pred_lasso = rf_lasso.predict(X_test_lasso)\n",
        "\n",
        "print('R-squared (Test) with LASSO Features:', r2_score(y_test, y_pred_lasso))\n",
        "print('RMSE (Test) with LASSO Features:', np.sqrt(mean_squared_error(y_test, y_pred_lasso)))\n"
      ]
    },
    {
      "cell_type": "markdown",
      "metadata": {
        "id": "G5sRPgLj7A-k"
      },
      "source": [
        "## Step 3.3: Interpretation of LASSO Feature Selection Results\n",
        "\n",
        "### Objective Recap:\n",
        "We used LASSO Regression to perform automatic feature selection from the original 147 financial factors.\n",
        "\n",
        "LASSO penalizes less important features → Shrinking their coefficients to zero → Leaving only the most predictive factor(s).\n",
        "\n",
        "---\n",
        "\n",
        "## Results of LASSO Feature Selection:\n",
        "\n",
        "| Metric | Value |\n",
        "|--------|-------|\n",
        "| Total Factors Initially Available | 147 |\n",
        "| Factors Selected by LASSO | 1 |\n",
        "| Factor Retained | 'ret_1_0' |\n",
        "\n",
        "---\n",
        "\n",
        "## Interpretation:\n",
        "- LASSO selected only a single factor → `ret_1_0`\n",
        "- This variable represents the stock's 1-month lagged return.\n",
        "- This is intuitive in financial modeling because recent returns often have predictive power (momentum or mean-reversion effects).\n",
        "\n",
        "---\n",
        "\n",
        "## Model Performance using LASSO Selected Features:\n",
        "\n",
        "| Metric | Value |\n",
        "|--------|-------|\n",
        "| R-squared (Test Set) | -0.5781 |\n",
        "| RMSE (Test Set) | 0.1301 |\n",
        "\n",
        "---\n",
        "\n",
        "## Insights:\n",
        "- The R-squared value is quite poor (negative), indicating that a single feature (`ret_1_0`) alone is insufficient for robust prediction.\n",
        "- RMSE increased compared to the full 147-feature model.\n",
        "- Conclusion:\n",
        "    - LASSO was aggressive due to the data's noisy nature.\n",
        "    - Relying only on `ret_1_0` is too simplistic for accurate prediction in this context.\n",
        "    - This validates our earlier decision to start with all 147 features.\n",
        "\n",
        "---\n",
        "\n",
        "## Final Decision:\n",
        "→ Continue using all 147 features for the main model.\n",
        "\n",
        "→ Later: Perform Feature Importance Analysis (from Random Forest or XGBoost) to carefully reduce features based on contribution, not just LASSO.\n",
        "\n"
      ]
    },
    {
      "cell_type": "markdown",
      "metadata": {
        "id": "GfNgMBNF7A-k"
      },
      "source": [
        "## Step 3.4: Train Final Random Forest Model using All 147 Features\n",
        "\n",
        "### Objective:\n",
        "Now that we confirmed LASSO was too aggressive (retained only 1 factor), we will proceed with the full set of 147 factors for our main model.\n",
        "\n",
        "This step establishes the foundation for:\n",
        "- Portfolio Construction (Step 4)\n",
        "- Performance Evaluation (Step 5)\n",
        "\n",
        "---\n",
        "\n",
        "### Approach:\n",
        "- Use Random Forest Regressor\n",
        "- Train on 2000-2009 data\n",
        "- Predict on 2010-2024 data\n",
        "- Extract Feature Importance\n",
        "- Visualize Top 20 Important Factors\n"
      ]
    },
    {
      "cell_type": "code",
      "execution_count": null,
      "metadata": {
        "id": "4Iz6OISo7A-k",
        "outputId": "150d49ad-fcea-43ad-b50f-5b235e18754e"
      },
      "outputs": [
        {
          "name": "stdout",
          "output_type": "stream",
          "text": [
            "Final Random Forest Model Performance:\n",
            "R-squared (Test): -0.0422\n",
            "RMSE (Test): 0.1057\n"
          ]
        },
        {
          "data": {
            "image/png": "[encoded data removed]",
            "text/plain": [
              "<Figure size 1200x600 with 1 Axes>"
            ]
          },
          "metadata": {},
          "output_type": "display_data"
        }
      ],
      "source": [
        "from sklearn.ensemble import RandomForestRegressor\n",
        "from sklearn.metrics import mean_squared_error, r2_score\n",
        "import matplotlib.pyplot as plt\n",
        "import numpy as np\n",
        "\n",
        "# Initialize Random Forest\n",
        "final_rf = RandomForestRegressor(n_estimators=100, max_depth=10, random_state=42, n_jobs=-1)\n",
        "\n",
        "# Train\n",
        "final_rf.fit(X_train, y_train)\n",
        "\n",
        "# Predict\n",
        "y_pred_final = final_rf.predict(X_test)\n",
        "\n",
        "# Evaluate\n",
        "r2_final = r2_score(y_test, y_pred_final)\n",
        "rmse_final = np.sqrt(mean_squared_error(y_test, y_pred_final))\n",
        "\n",
        "print('Final Random Forest Model Performance:')\n",
        "print('R-squared (Test):', round(r2_final, 4))\n",
        "print('RMSE (Test):', round(rmse_final, 4))\n",
        "\n",
        "# Feature Importances\n",
        "importances = final_rf.feature_importances_\n",
        "indices = np.argsort(importances)[::-1]\n",
        "\n",
        "plt.figure(figsize=(12, 6))\n",
        "plt.title('Top 20 Feature Importances from Final RF Model')\n",
        "plt.bar(range(20), importances[indices[:20]], align='center')\n",
        "plt.xticks(range(20), [X.columns[i] for i in indices[:20]], rotation=90)\n",
        "plt.tight_layout()\n",
        "plt.show()\n"
      ]
    },
    {
      "cell_type": "markdown",
      "metadata": {
        "id": "eLrM34Hw7A-k"
      },
      "source": [
        "## Step 4: Portfolio Construction using Predicted Returns\n",
        "\n",
        "### Objective:\n",
        "Construct a long-only trading portfolio using the predicted `stock_exret` values from the Random Forest model.\n",
        "\n",
        "---\n",
        "\n",
        "### Methodology:\n",
        "\n",
        "| Step | Action | Explanation |\n",
        "|------|--------|-------------|\n",
        "| 1 | **Rank Stocks Monthly** | Rank all stocks within each month by predicted `stock_exret` |\n",
        "| 2 | **Select Top Stocks** | Make replacements starting with worst-performing stocks in current holdings, and onlly replace stocks when new candidates have higher predicted reutns than the current holding stock. Stop making replacements either when we hit 25% turnover limit or when we run out of new candidates.\n",
        "| 3 | **Equal Weight Allocation** | Assign equal weight to each selected stock |\n",
        "| 4 | **Calculate Portfolio Return** | Compute the average of actual `stock_exret` of selected stocks |\n",
        "| 5 | **Track Performance** | Build time series of portfolio returns to be used in backtesting |\n",
        "\n",
        "---\n",
        "\n",
        "### 💡 Rationale for Equal Weighting:\n",
        "\n",
        "| Reason | Benefit |\n",
        "|--------|---------|\n",
        "| Simplicity | Easy to implement and interpret |\n",
        "| Avoids Overfitting | No need for complex optimization |\n",
        "| Diversification | Spreads risk across selected stocks |\n",
        "\n",
        "---\n",
        "\n",
        "We will now implement this logic using the test set (2010–2024) predictions.\n"
      ]
    },
    {
      "cell_type": "code",
      "execution_count": null,
      "metadata": {
        "id": "PP1d57Or7A-k",
        "outputId": "ef90fee0-4d54-41e1-9ead-a29f71607d1d"
      },
      "outputs": [
        {
          "name": "stdout",
          "output_type": "stream",
          "text": [
            "Turnover Statistics:\n",
            "Average Monthly Turnover: 25.45%\n",
            "Maximum Monthly Turnover (excluding first month): 25.00%\n",
            "Minimum Monthly Turnover (excluding first month): 25.00%\n",
            "\n",
            "Portfolio Returns and Statistics:\n",
            "        date  portfolio_exret  num_stocks  turnover\n",
            "0 2010-01-29        -0.057135         100      1.00\n",
            "1 2010-02-26         0.048319         100      0.25\n",
            "2 2010-03-31         0.085667         100      0.25\n",
            "3 2010-04-30         0.051081         100      0.25\n",
            "4 2010-05-28        -0.071238         100      0.25\n"
          ]
        }
      ],
      "source": [
        "# Step 4: Portfolio Construction Logic with Optimized Turnover\n",
        "\n",
        "# Add predicted returns to main DataFrame for 2010–2024 period\n",
        "df.loc[df['year'] >= 2010, 'pred_rf'] = y_pred_final\n",
        "\n",
        "# Filter for test period only (2010-2024)\n",
        "test_df = df[df['year'] >= 2010].copy()\n",
        "\n",
        "# Initialize dictionary to store current holdings\n",
        "current_holdings = None\n",
        "portfolio_data = []\n",
        "turnovers = []\n",
        "\n",
        "# Process each month in test period\n",
        "for date in sorted(test_df['date'].unique()):\n",
        "    month_data = test_df[test_df['date'] == date].copy()\n",
        "\n",
        "    # Rank all stocks by predicted return\n",
        "    month_data['pred_rank'] = month_data['pred_rf'].rank(ascending=False)\n",
        "\n",
        "    if current_holdings is None:\n",
        "        # First month: simply take top 100 stocks\n",
        "        selected_stocks = month_data[month_data['pred_rank'] <= 100]['permno'].tolist()\n",
        "        turnover = 1.0  # 100% turnover for first month\n",
        "    else:\n",
        "        # Get current holdings' predicted returns\n",
        "        current_holdings_data = month_data[month_data['permno'].isin(current_holdings)]\n",
        "        current_holdings_returns = dict(zip(current_holdings_data['permno'], current_holdings_data['pred_rf']))\n",
        "\n",
        "        # Get potential new stocks (not in current holdings)\n",
        "        new_candidates = month_data[\n",
        "            (~month_data['permno'].isin(current_holdings)) &\n",
        "            (month_data['pred_rank'] <= 150)\n",
        "        ].sort_values('pred_rf', ascending=False)\n",
        "\n",
        "        # Keep stocks from current holdings that are still performing well\n",
        "        keep_stocks = list(set(current_holdings) & set(month_data[month_data['pred_rank'] <= 150]['permno']))\n",
        "\n",
        "        # Find potential replacements that would improve returns\n",
        "        replacements = []\n",
        "        stocks_to_remove = []\n",
        "\n",
        "        # Sort current holdings by predicted returns (ascending so we replace worst performers first)\n",
        "        current_sorted = sorted(\n",
        "            [(stock, current_holdings_returns.get(stock, float('-inf')))\n",
        "             for stock in current_holdings],\n",
        "            key=lambda x: x[1]\n",
        "        )\n",
        "\n",
        "        # For each potential new stock, see if it would improve returns\n",
        "        for new_stock, row in new_candidates.iterrows():\n",
        "            if len(replacements) >= 25:  # Respect 25% turnover limit\n",
        "                break\n",
        "\n",
        "            # Get the next worst performing current holding\n",
        "            while current_sorted and current_sorted[0][0] in stocks_to_remove:\n",
        "                current_sorted.pop(0)\n",
        "\n",
        "            if not current_sorted:\n",
        "                break\n",
        "\n",
        "            worst_current_stock, worst_current_return = current_sorted[0]\n",
        "\n",
        "            # If new stock has better predicted return, make the replacement\n",
        "            if row['pred_rf'] > worst_current_return:\n",
        "                replacements.append(row['permno'])\n",
        "                stocks_to_remove.append(worst_current_stock)\n",
        "                current_sorted.pop(0)\n",
        "            else:\n",
        "                break  # No more beneficial replacements possible\n",
        "\n",
        "        # Remove stocks we're replacing\n",
        "        keep_stocks = [s for s in keep_stocks if s not in stocks_to_remove]\n",
        "\n",
        "        # Combine kept stocks with replacements\n",
        "        selected_stocks = keep_stocks + replacements\n",
        "\n",
        "        # Calculate actual turnover\n",
        "        turnover = len(replacements) / 100\n",
        "\n",
        "    # Update current holdings for next month\n",
        "    current_holdings = selected_stocks\n",
        "\n",
        "    # Verify we have exactly 100 stocks\n",
        "    if len(selected_stocks) < 100:\n",
        "        remaining_candidates = month_data[\n",
        "            (month_data['permno'].isin(selected_stocks) == False) &\n",
        "            (month_data['pred_rank'] <= 150)\n",
        "        ]['permno'].tolist()\n",
        "        selected_stocks.extend(remaining_candidates[:100 - len(selected_stocks)])\n",
        "\n",
        "    # Record selected stocks' returns and turnover\n",
        "    selected_returns = month_data[month_data['permno'].isin(selected_stocks)]['stock_exret']\n",
        "    if len(selected_returns) > 0:\n",
        "        month_return = selected_returns.mean()\n",
        "    else:\n",
        "        print(f\"Warning: No stocks selected for date {date}\")\n",
        "        month_return = 0\n",
        "\n",
        "    portfolio_data.append({\n",
        "        'date': date,\n",
        "        'portfolio_exret': month_return,\n",
        "        'num_stocks': len(selected_returns)\n",
        "    })\n",
        "\n",
        "    turnovers.append({\n",
        "        'date': date,\n",
        "        'turnover': turnover\n",
        "    })\n",
        "\n",
        "# Convert to DataFrames\n",
        "portfolio_returns = pd.DataFrame(portfolio_data)\n",
        "turnover_df = pd.DataFrame(turnovers)\n",
        "\n",
        "# Merge portfolio returns with turnover\n",
        "portfolio_returns = pd.merge(portfolio_returns, turnover_df, on='date', how='left')\n",
        "\n",
        "# Display turnover statistics\n",
        "print('Turnover Statistics:')\n",
        "#average monthly turnover is higher than 25% because the first month has 100% turnover\n",
        "print('Average Monthly Turnover: {:.2%}'.format(turnover_df['turnover'].mean()))\n",
        "print('Maximum Monthly Turnover (excluding first month): {:.2%}'.format(turnover_df['turnover'].iloc[1:].max()))\n",
        "print('Minimum Monthly Turnover (excluding first month): {:.2%}'.format(turnover_df['turnover'].iloc[1:].min()))\n",
        "\n",
        "# Display sample output and verify portfolio size\n",
        "print('\\nPortfolio Returns and Statistics:')\n",
        "print(portfolio_returns.head())\n",
        "\n"
      ]
    },
    {
      "cell_type": "code",
      "execution_count": null,
      "metadata": {
        "id": "W_EpqEWYaAxJ",
        "outputId": "c841ea07-f8ec-4302-8f54-467cb766a6d1"
      },
      "outputs": [
        {
          "name": "stdout",
          "output_type": "stream",
          "text": [
            "Top 10 Holdings (2010-2024):\n",
            "============================\n",
            "PERMNO     Months Held     % Time Held    \n",
            "--------------------------------------------------\n",
            "52695      165             98.21%\n",
            "87717      159             94.64%\n",
            "21178      153             91.07%\n",
            "50876      150             89.29%\n",
            "24766      144             85.71%\n",
            "25320      144             85.71%\n",
            "59328      144             85.71%\n",
            "23819      141             83.93%\n",
            "17144      141             83.93%\n",
            "46886      141             83.93%\n"
          ]
        }
      ],
      "source": [
        "# Step 4.1: Analyze Top Holdings (2010-2024)\n",
        "\n",
        "# Create a DataFrame of all selected stocks per month\n",
        "holdings_data = []\n",
        "for date in sorted(test_df['date'].unique()):\n",
        "    month_data = test_df[test_df['date'] == date].copy()\n",
        "    selected_stocks = month_data[month_data['permno'].isin(current_holdings)]\n",
        "\n",
        "    for _, row in selected_stocks.iterrows():\n",
        "        holdings_data.append({\n",
        "            'date': date,\n",
        "            'permno': row['permno'],\n",
        "            'weight': 1/100  # Equal weight (1% each)\n",
        "        })\n",
        "\n",
        "holdings_df = pd.DataFrame(holdings_data)\n",
        "\n",
        "# Calculate holding frequency and average weight for each stock\n",
        "holding_stats = holdings_df.groupby('permno').agg({\n",
        "    'date': 'count',  # Number of months held\n",
        "    'weight': 'mean'  # Average weight\n",
        "}).rename(columns={'date': 'months_held'})\n",
        "\n",
        "# Calculate percentage of time held\n",
        "total_months = len(test_df['date'].unique())\n",
        "holding_stats['holding_percentage'] = (holding_stats['months_held'] / total_months * 100)\n",
        "\n",
        "# Sort by holding frequency to get top 10\n",
        "top_10_holdings = holding_stats.sort_values('holding_percentage', ascending=False).head(10)\n",
        "\n",
        "# Format the results\n",
        "print(\"Top 10 Holdings (2010-2024):\")\n",
        "print(\"============================\")\n",
        "print(f\"{'PERMNO':<10} {'Months Held':<15} {'% Time Held':<15}\")\n",
        "print(\"-\" * 50)\n",
        "for permno, row in top_10_holdings.iterrows():\n",
        "    print(f\"{permno:<10} {int(row['months_held']):<15} {row['holding_percentage']:.2f}%\")\n",
        "\n"
      ]
    },
    {
      "cell_type": "code",
      "execution_count": null,
      "metadata": {
        "id": "6ImC7nwyaDCG",
        "outputId": "3928fd0a-6cf1-4a78-d272-250a42b4da7e"
      },
      "outputs": [
        {
          "name": "stdout",
          "output_type": "stream",
          "text": [
            "Top 10 Most Profitable Positions (2010-2024):\n",
            "============================================\n",
            "PERMNO     Total Contrib   Avg Return      Months Held \n",
            "----------------------------------------------------\n",
            "48486       3.75%       2.72%      138\n",
            "13511       3.49%       2.79%      125\n",
            "12872       3.25%       3.13%      104\n",
            "14702       3.20%       2.37%      135\n",
            "50876       3.19%       2.12%      150\n",
            "46886       3.12%       2.22%      141\n",
            "14714       3.08%       3.11%       99\n",
            "77037       3.01%       2.57%      117\n",
            "11403       2.86%       2.17%      132\n",
            "52695       2.70%       1.63%      165\n",
            "Contribution from Top 10: 31.65%\n"
          ]
        }
      ],
      "source": [
        "#step 4.2 present the 10 most profitable positions (stocks) that drove the performance\n",
        "\n",
        "# Calculate profit contribution for each stock\n",
        "profit_data = []\n",
        "for date in sorted(test_df['date'].unique()):\n",
        "    month_data = test_df[test_df['date'] == date].copy()\n",
        "    selected_stocks = month_data[month_data['permno'].isin(current_holdings)]\n",
        "\n",
        "    for _, row in selected_stocks.iterrows():\n",
        "        profit_data.append({\n",
        "            'date': date,\n",
        "            'permno': row['permno'],\n",
        "            'return': row['stock_exret'],  # Individual stock excess return\n",
        "            'weight': 1/100,  # Equal weight\n",
        "            'contribution': row['stock_exret'] * (1/100)  # Return contribution\n",
        "        })\n",
        "\n",
        "profit_df = pd.DataFrame(profit_data)\n",
        "\n",
        "# Calculate cumulative profit contribution for each stock\n",
        "stock_profits = profit_df.groupby('permno').agg({\n",
        "    'contribution': 'sum',  # Total profit contribution\n",
        "    'return': ['mean', 'std'],  # Average return and volatility\n",
        "    'date': 'count'  # Number of months held\n",
        "}).round(4)\n",
        "\n",
        "# Flatten column names\n",
        "stock_profits.columns = ['total_contribution', 'avg_return', 'return_std', 'months_held']\n",
        "\n",
        "# Sort by total contribution to get top 10 most profitable positions\n",
        "top_10_profitable = stock_profits.sort_values('total_contribution', ascending=False).head(10)\n",
        "\n",
        "# Format the results\n",
        "print(\"Top 10 Most Profitable Positions (2010-2024):\")\n",
        "print(\"============================================\")\n",
        "print(f\"{'PERMNO':<10} {'Total Contrib':<15} {'Avg Return':<15} {'Months Held':<12}\")\n",
        "print(\"-\" * 52)\n",
        "for permno, row in top_10_profitable.iterrows():\n",
        "    print(f\"{permno:<10} {row['total_contribution']:>6.2%}      {row['avg_return']:>6.2%}      {int(row['months_held']):>3}\")\n",
        "\n",
        "\n",
        "print(f\"Contribution from Top 10: {top_10_profitable['total_contribution'].sum():.2%}\")"
      ]
    },
    {
      "cell_type": "markdown",
      "metadata": {
        "id": "Esc270Ev7A-k"
      },
      "source": [
        "## Step 5: Backtesting the Portfolio vs S&P 500\n",
        "\n",
        "### Objective:\n",
        "Evaluate how well our machine learning-driven portfolio (Top 100 Stocks per month) performs compared to the S&P 500 over the test period (2010–2024).\n",
        "\n",
        "---\n",
        "\n",
        "### Methodology:\n",
        "\n",
        "| Step | Action | Explanation |\n",
        "|------|--------|-------------|\n",
        "| 1 | Merge Portfolio Returns with Market Data | Combine `portfolio_returns` with `mkt_ind.csv` (S&P 500 returns and Risk-Free Rate) |\n",
        "| 2 | Calculate Cumulative Returns | Track growth of $1 invested in: (i) Portfolio and (ii) S&P 500 |\n",
        "| 3 | Visualize Performance | Line plot comparing Portfolio vs S&P 500 over time |\n",
        "\n",
        "---\n",
        "\n",
        "### Interpretation:\n",
        "\n",
        "- If Portfolio line > S&P 500 → Our strategy outperformed the market.\n",
        "- Visualizes practical impact even if model R² was low.\n"
      ]
    },
    {
      "cell_type": "code",
      "execution_count": null,
      "metadata": {
        "id": "zRQdJJqj7A-l",
        "outputId": "90e4a903-f38e-4388-e114-8ac084dd36c6"
      },
      "outputs": [
        {
          "data": {
            "image/png": "[encoded data removed]",
            "text/plain": [
              "<Figure size 1200x600 with 1 Axes>"
            ]
          },
          "metadata": {},
          "output_type": "display_data"
        }
      ],
      "source": [
        "# Step 5: Backtesting vs S&P500\n",
        "\n",
        "# Merge with Market Data on year & month\n",
        "portfolio_returns['year'] = portfolio_returns['date'].dt.year\n",
        "portfolio_returns['month'] = portfolio_returns['date'].dt.month\n",
        "\n",
        "merged = pd.merge(portfolio_returns, mkt, on=['year', 'month'], how='left')\n",
        "\n",
        "# Calculate Cumulative Returns\n",
        "merged['portfolio_cum'] = (1 + merged['portfolio_exret']).cumprod()\n",
        "merged['sp500_cum'] = (1 + merged['sp_ret']).cumprod()\n",
        "\n",
        "# Plot Performance\n",
        "plt.figure(figsize=(12, 6))\n",
        "plt.plot(merged['date'], merged['portfolio_cum'], label='ML Portfolio')\n",
        "plt.plot(merged['date'], merged['sp500_cum'], label='S&P 500')\n",
        "plt.xlabel('Date')\n",
        "plt.ylabel('Cumulative Returns (Growth of $1)')\n",
        "plt.title('Portfolio vs S&P 500 Performance (2010-2024)')\n",
        "plt.legend()\n",
        "plt.tight_layout()\n",
        "plt.show()\n"
      ]
    },
    {
      "cell_type": "markdown",
      "metadata": {
        "id": "xUIlXizF7A-l"
      },
      "source": [
        "## Step 6: Portfolio Performance Evaluation (Long-only Portfolio)\n",
        "\n",
        "### Objective:\n",
        "Evaluate the performance of our predicted long-only portfolio returns (`portfolio_exret`) over the period 2010-2024.\n",
        "\n",
        "We will calculate the following metrics as required by the assignment:\n",
        "- Alpha (CAPM Regression Intercept)\n",
        "- Beta (Market Exposure)\n",
        "- Sharpe Ratio\n",
        "- Information Ratio\n",
        "- Maximum Drawdown\n",
        "- Maximum 1-Month Loss\n",
        "- Tracking Error\n",
        "- Turnover (already controlled in stock selection logic)\n",
        "\n",
        "---\n",
        "\n",
        "### Method:\n",
        "1. Merge `portfolio_exret` with `mkt_ind.csv` (S&P500 returns + Risk-Free Rate)\n",
        "2. Run CAPM Regression → Portfolio Excess Return ~ S&P500 Excess Return\n",
        "3. Compute evaluation metrics\n"
      ]
    },
    {
      "cell_type": "code",
      "execution_count": null,
      "metadata": {
        "id": "sPE3-TFU7A-l",
        "outputId": "96a7330f-9269-4e13-acf4-721a93252e7c"
      },
      "outputs": [
        {
          "name": "stdout",
          "output_type": "stream",
          "text": [
            "                            OLS Regression Results                            \n",
            "==============================================================================\n",
            "Dep. Variable:     portfolio_rf_exret   R-squared:                       0.784\n",
            "Model:                            OLS   Adj. R-squared:                  0.783\n",
            "Method:                 Least Squares   F-statistic:                     603.5\n",
            "Date:                Sun, 13 Apr 2025   Prob (F-statistic):           3.60e-57\n",
            "Time:                        16:59:49   Log-Likelihood:                 378.13\n",
            "No. Observations:                 168   AIC:                            -752.3\n",
            "Df Residuals:                     166   BIC:                            -746.0\n",
            "Df Model:                           1                                         \n",
            "Covariance Type:            nonrobust                                         \n",
            "==============================================================================\n",
            "                 coef    std err          t      P>|t|      [0.025      0.975]\n",
            "------------------------------------------------------------------------------\n",
            "const          0.0009      0.002      0.433      0.666      -0.003       0.005\n",
            "0              1.1385      0.046     24.567      0.000       1.047       1.230\n",
            "==============================================================================\n",
            "Omnibus:                       26.551   Durbin-Watson:                   1.790\n",
            "Prob(Omnibus):                  0.000   Jarque-Bera (JB):               54.643\n",
            "Skew:                           0.717   Prob(JB):                     1.36e-12\n",
            "Kurtosis:                       5.398   Cond. No.                         23.4\n",
            "==============================================================================\n",
            "\n",
            "Notes:\n",
            "[1] Standard Errors assume that the covariance matrix of the errors is correctly specified.\n",
            "\n",
            "--- Portfolio Performance Metrics ---\n",
            "Alpha (Annualized): 0.0105\n",
            "Beta: 1.1385\n",
            "Tracking Error (Annualized): 0.0883\n",
            "Sharpe Ratio: 0.6925\n",
            "Information Ratio: 0.1189\n",
            "Max Drawdown: 0.3522\n",
            "Max 1-Month Loss: -0.1599\n"
          ]
        }
      ],
      "source": [
        "import pandas as pd\n",
        "import numpy as np\n",
        "import statsmodels.api as sm\n",
        "\n",
        "# Merge Portfolio Returns with Market Index Data\n",
        "merged = pd.merge(portfolio_returns, mkt, on=['year', 'month'], how='inner')\n",
        "\n",
        "# Calculate Portfolio Excess Return over RF\n",
        "merged['portfolio_rf_exret'] = merged['portfolio_exret'] - merged['RF']\n",
        "\n",
        "# CAPM Regression: Portfolio Return ~ S&P500 Excess Return\n",
        "X = merged['sp_ret'] - merged['RF']  # Market Excess Return\n",
        "X = sm.add_constant(X)\n",
        "y = merged['portfolio_rf_exret']\n",
        "\n",
        "# Fit the Regression Model\n",
        "model = sm.OLS(y, X).fit()\n",
        "print(model.summary())\n",
        "\n",
        "# Extract Performance Metrics\n",
        "alpha = model.params['const'] * 12  # Annualized\n",
        "beta = model.params[0]              # Coefficient for (sp_ret - RF)\n",
        "residuals = model.resid\n",
        "\n",
        "tracking_error = np.std(residuals) * np.sqrt(12)\n",
        "sharpe_ratio = merged['portfolio_rf_exret'].mean() / merged['portfolio_rf_exret'].std() * np.sqrt(12)\n",
        "information_ratio = alpha / tracking_error\n",
        "max_drawdown = (merged['portfolio_rf_exret'].cumsum().cummax() - merged['portfolio_rf_exret'].cumsum()).max()\n",
        "max_1m_loss = merged['portfolio_rf_exret'].min()\n",
        "\n",
        "print('\\n--- Portfolio Performance Metrics ---')\n",
        "print('Alpha (Annualized):', round(alpha, 4))\n",
        "print('Beta:', round(beta, 4))\n",
        "print('Tracking Error (Annualized):', round(tracking_error, 4))\n",
        "print('Sharpe Ratio:', round(sharpe_ratio, 4))\n",
        "print('Information Ratio:', round(information_ratio, 4))\n",
        "print('Max Drawdown:', round(max_drawdown, 4))\n",
        "print('Max 1-Month Loss:', round(max_1m_loss, 4))\n"
      ]
    },
    {
      "cell_type": "markdown",
      "metadata": {
        "id": "_lcQtMUF7A-l"
      },
      "source": [
        "## Step 6: Portfolio Performance Evaluation — Using CAPM Regression & Manual Metrics\n",
        "\n",
        "### Objective:\n",
        "To evaluate the out-of-sample performance (2010-2024) of our ML-driven portfolio relative to the market benchmark (S&P500).\n",
        "\n",
        "---\n",
        "\n",
        "### Methodology:\n",
        "- Merged portfolio returns (`portfolio_returns`) with S&P500 market data (`mkt` dataset).\n",
        "- Calculated Portfolio Excess Return = Portfolio Return - Risk-Free Rate.\n",
        "- Ran CAPM Regression:  \n",
        "   - Dependent Variable: Portfolio Excess Return  \n",
        "   - Independent Variable: Market Excess Return (S&P500 - RF)\n",
        "- Extracted key industry metrics to evaluate portfolio performance.\n",
        "\n",
        "---\n",
        "\n",
        "### Portfolio Performance Metrics (Results):\n",
        "\n",
        "| Metric                        | Value      | Interpretation                                           |\n",
        "|--------------------------------|------------|----------------------------------------------------------|\n",
        "| Alpha (Annualized)            | 0.0105      | Annual abnormal return vs S&P500                         |\n",
        "| Beta                          | 1.1385     | Strong sensitivity to market returns                     |\n",
        "| Tracking Error (Annualized)   | 0.0883     | Moderate deviation from benchmark returns                |\n",
        "| Sharpe Ratio                  | 0.6925     | Decent risk-adjusted return                              |\n",
        "| Information Ratio             | 0.1189     | Portfolio outperformance per unit of tracking error      |\n",
        "| Max Drawdown                  | 0.3522     | Largest historical loss from peak                        |\n",
        "| Max 1-Month Loss              | -0.1599    | Worst monthly return during test period                  |\n",
        "\n",
        "---\n",
        "\n",
        "### Key Takeaways:\n",
        "- Positive Alpha → Portfolio added value beyond market exposure.\n",
        "- High Beta → Portfolio is highly sensitive to market moves.\n",
        "- Tracking Error within acceptable institutional limits.\n",
        "- Sharpe Ratio near 0.7 → Decent for equity portfolios.\n",
        "- Max Drawdown (35.1%) indicates exposure to significant downside risk in bad periods. Typically a long strategy would perform sub-optimally under negative economic impacts as most stocks are declining. A long-short strategy, which neutralizes the market trend would be most suitable in such periods.\n",
        "- Information Ratio positive → Shows value-added strategy relative to S&P500.\n"
      ]
    }
  ],
  "metadata": {
    "colab": {
      "provenance": [],
      "include_colab_link": true
    },
    "kernelspec": {
      "display_name": "Python 3",
      "language": "python",
      "name": "python3"
    },
    "language_info": {
      "codemirror_mode": {
        "name": "ipython",
        "version": 3
      },
      "file_extension": ".py",
      "mimetype": "text/x-python",
      "name": "python",
      "nbconvert_exporter": "python",
      "pygments_lexer": "ipython3",
      "version": "3.12.9"
    }
  },
  "nbformat": 4,
  "nbformat_minor": 0
}